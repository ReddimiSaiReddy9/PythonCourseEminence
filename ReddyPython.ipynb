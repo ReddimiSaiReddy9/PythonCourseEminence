{
  "nbformat": 4,
  "nbformat_minor": 0,
  "metadata": {
    "colab": {
      "name": "ReddyPython.ipynb",
      "provenance": [],
      "collapsed_sections": [],
      "authorship_tag": "ABX9TyN7/OzZT/eGQJRDygU/IhAX",
      "include_colab_link": true
    },
    "kernelspec": {
      "name": "python3",
      "display_name": "Python 3"
    }
  },
  "cells": [
    {
      "cell_type": "markdown",
      "metadata": {
        "id": "view-in-github",
        "colab_type": "text"
      },
      "source": [
        "<a href=\"https://colab.research.google.com/github/ReddimiSaiReddy9/PythonCourseEminence/blob/master/ReddyPython.ipynb\" target=\"_parent\"><img src=\"https://colab.research.google.com/assets/colab-badge.svg\" alt=\"Open In Colab\"/></a>"
      ]
    },
    {
      "cell_type": "markdown",
      "metadata": {
        "id": "kX-PiXf2X2rL",
        "colab_type": "text"
      },
      "source": [
        "E1\n"
      ]
    },
    {
      "cell_type": "code",
      "metadata": {
        "id": "oEeoq5J2B3jm",
        "colab_type": "code",
        "colab": {
          "base_uri": "https://localhost:8080/",
          "height": 34
        },
        "outputId": "23d3384f-c5bf-419f-ac10-e5d22aedbfc5"
      },
      "source": [
        "import numpy as np\n",
        "array = np.arange(10)\n",
        "array\n",
        "\n",
        "\n"
      ],
      "execution_count": 21,
      "outputs": [
        {
          "output_type": "execute_result",
          "data": {
            "text/plain": [
              "array([0, 1, 2, 3, 4, 5, 6, 7, 8, 9])"
            ]
          },
          "metadata": {
            "tags": []
          },
          "execution_count": 21
        }
      ]
    },
    {
      "cell_type": "markdown",
      "metadata": {
        "id": "qrYKx5EZX7u6",
        "colab_type": "text"
      },
      "source": [
        "E2"
      ]
    },
    {
      "cell_type": "code",
      "metadata": {
        "id": "UpcI7qeocE99",
        "colab_type": "code",
        "colab": {
          "base_uri": "https://localhost:8080/",
          "height": 34
        },
        "outputId": "cdbd8ea0-79bb-43e4-fa84-b7c019706a1a"
      },
      "source": [
        "odd_no=array[array%2==1]\n",
        "odd_no"
      ],
      "execution_count": 22,
      "outputs": [
        {
          "output_type": "execute_result",
          "data": {
            "text/plain": [
              "array([1, 3, 5, 7, 9])"
            ]
          },
          "metadata": {
            "tags": []
          },
          "execution_count": 22
        }
      ]
    },
    {
      "cell_type": "markdown",
      "metadata": {
        "id": "MVqPxolHX_E8",
        "colab_type": "text"
      },
      "source": [
        "E3"
      ]
    },
    {
      "cell_type": "code",
      "metadata": {
        "id": "CelYr6Xlc8dv",
        "colab_type": "code",
        "colab": {
          "base_uri": "https://localhost:8080/",
          "height": 34
        },
        "outputId": "0668003e-5920-4aaf-cce0-578fc9bb692c"
      },
      "source": [
        "array[array%2==1]=-1\n",
        "array"
      ],
      "execution_count": 23,
      "outputs": [
        {
          "output_type": "execute_result",
          "data": {
            "text/plain": [
              "array([ 0, -1,  2, -1,  4, -1,  6, -1,  8, -1])"
            ]
          },
          "metadata": {
            "tags": []
          },
          "execution_count": 23
        }
      ]
    },
    {
      "cell_type": "markdown",
      "metadata": {
        "id": "IVID-YhzYDUA",
        "colab_type": "text"
      },
      "source": [
        "E4"
      ]
    },
    {
      "cell_type": "code",
      "metadata": {
        "id": "f1xrv6VEdl2D",
        "colab_type": "code",
        "colab": {
          "base_uri": "https://localhost:8080/",
          "height": 51
        },
        "outputId": "b809e659-916d-4404-86d8-1204849c5acb"
      },
      "source": [
        "arr = np.reshape(array, (2,5))\n",
        "arr"
      ],
      "execution_count": 31,
      "outputs": [
        {
          "output_type": "execute_result",
          "data": {
            "text/plain": [
              "array([[0, 1, 2, 3, 4],\n",
              "       [5, 6, 7, 8, 9]])"
            ]
          },
          "metadata": {
            "tags": []
          },
          "execution_count": 31
        }
      ]
    },
    {
      "cell_type": "markdown",
      "metadata": {
        "id": "BzuR251HYFjb",
        "colab_type": "text"
      },
      "source": [
        "E5"
      ]
    },
    {
      "cell_type": "code",
      "metadata": {
        "id": "wOfhFz3lghP9",
        "colab_type": "code",
        "colab": {
          "base_uri": "https://localhost:8080/",
          "height": 34
        },
        "outputId": "d0452304-516a-4873-abba-e001a409e6b2"
      },
      "source": [
        "a = np.array([1,2,3,2,3,4,3,4,5,6])\n",
        "b = np.array([7,2,10,2,7,4,9,4,9,8])\n",
        "common_item= np.intersect1d(a, b)\n",
        "common_item"
      ],
      "execution_count": 34,
      "outputs": [
        {
          "output_type": "execute_result",
          "data": {
            "text/plain": [
              "array([2, 4])"
            ]
          },
          "metadata": {
            "tags": []
          },
          "execution_count": 34
        }
      ]
    },
    {
      "cell_type": "markdown",
      "metadata": {
        "id": "AFfOXnJwYJtf",
        "colab_type": "text"
      },
      "source": [
        "E6"
      ]
    },
    {
      "cell_type": "code",
      "metadata": {
        "id": "XZ6fDnjfnZck",
        "colab_type": "code",
        "colab": {
          "base_uri": "https://localhost:8080/",
          "height": 34
        },
        "outputId": "0cbff023-fdfa-4b82-f110-04baaf71fa6d"
      },
      "source": [
        "import numpy as np\n",
        "a = np.array([2,6,1,9,10,3,27])\n",
        "a[(a>4) & (a<11)]\n"
      ],
      "execution_count": 4,
      "outputs": [
        {
          "output_type": "execute_result",
          "data": {
            "text/plain": [
              "array([ 6,  9, 10])"
            ]
          },
          "metadata": {
            "tags": []
          },
          "execution_count": 4
        }
      ]
    },
    {
      "cell_type": "markdown",
      "metadata": {
        "id": "W7p0f-jDYMdt",
        "colab_type": "text"
      },
      "source": [
        "E7"
      ]
    },
    {
      "cell_type": "code",
      "metadata": {
        "id": "srmJHPapojUz",
        "colab_type": "code",
        "colab": {
          "base_uri": "https://localhost:8080/",
          "height": 51
        },
        "outputId": "dfb43d6f-6342-4d3e-f195-361ee090cd1c"
      },
      "source": [
        "import numpy as np\n",
        "a = np.array([[0.45053314, 0.17296777, 0.34376245, 0.5510652], [0.54627315, 0.05093587, 0.40067661, 0.55645993], [0.12697628, 0.82485143, 0.26590556, 0.56917101]])\n",
        "sum_a = a.sum()\n",
        "maxvalue_a = a.max()\n",
        "print(sum_a)\n",
        "print(maxvalue_a)"
      ],
      "execution_count": 13,
      "outputs": [
        {
          "output_type": "stream",
          "text": [
            "4.8595784\n",
            "0.82485143\n"
          ],
          "name": "stdout"
        }
      ]
    },
    {
      "cell_type": "markdown",
      "metadata": {
        "id": "YkZ8SXx_YOrE",
        "colab_type": "text"
      },
      "source": [
        "E8"
      ]
    },
    {
      "cell_type": "code",
      "metadata": {
        "id": "iGhSQRoiUpF1",
        "colab_type": "code",
        "colab": {
          "base_uri": "https://localhost:8080/",
          "height": 68
        },
        "outputId": "2306e8f6-3f77-4396-a59a-be392f848bf2"
      },
      "source": [
        "import numpy as np\n",
        "def multiply():\n",
        "  a = np.array([[0.45053314, 0.17296777, 0.34376245, 0.5510652],\n",
        "            [0.54627315, 0.05093587, 0.40067661, 0.55645993],\n",
        "             [0.12697628, 0.82485143, 0.26590556, 0.56917101]]) \n",
        "  m=10*a\n",
        "  return m\n",
        "multiply()"
      ],
      "execution_count": 22,
      "outputs": [
        {
          "output_type": "execute_result",
          "data": {
            "text/plain": [
              "array([[4.5053314, 1.7296777, 3.4376245, 5.510652 ],\n",
              "       [5.4627315, 0.5093587, 4.0067661, 5.5645993],\n",
              "       [1.2697628, 8.2485143, 2.6590556, 5.6917101]])"
            ]
          },
          "metadata": {
            "tags": []
          },
          "execution_count": 22
        }
      ]
    },
    {
      "cell_type": "markdown",
      "metadata": {
        "id": "bXrReB2nYQvs",
        "colab_type": "text"
      },
      "source": [
        "E9"
      ]
    },
    {
      "cell_type": "code",
      "metadata": {
        "id": "yU1980dFMyd9",
        "colab_type": "code",
        "colab": {
          "base_uri": "https://localhost:8080/",
          "height": 470
        },
        "outputId": "ea2550b4-1ab2-49ae-ed59-5c0ea4407ac1"
      },
      "source": [
        "import pandas as pd\n",
        "log_data = pd.read_csv('https://raw.githubusercontent.com/Energy-AI/basic_course/master/Lecture_3/data/log_data_csv.csv?token=AQU7K5GPIRBWHBOFF4CU37C7MTV4C')\n",
        "log_data.set_index('DEPTH', inplace = True)\n",
        "log_data"
      ],
      "execution_count": 2,
      "outputs": [
        {
          "output_type": "execute_result",
          "data": {
            "text/html": [
              "<div>\n",
              "<style scoped>\n",
              "    .dataframe tbody tr th:only-of-type {\n",
              "        vertical-align: middle;\n",
              "    }\n",
              "\n",
              "    .dataframe tbody tr th {\n",
              "        vertical-align: top;\n",
              "    }\n",
              "\n",
              "    .dataframe thead th {\n",
              "        text-align: right;\n",
              "    }\n",
              "</style>\n",
              "<table border=\"1\" class=\"dataframe\">\n",
              "  <thead>\n",
              "    <tr style=\"text-align: right;\">\n",
              "      <th></th>\n",
              "      <th>ABDCQF01</th>\n",
              "      <th>ABDCQF02</th>\n",
              "      <th>ABDCQF03</th>\n",
              "      <th>ABDCQF04</th>\n",
              "      <th>BS</th>\n",
              "      <th>CALI</th>\n",
              "      <th>DRHO</th>\n",
              "      <th>DT</th>\n",
              "      <th>DTS</th>\n",
              "      <th>GR</th>\n",
              "      <th>NBGRCFM</th>\n",
              "      <th>NPHI</th>\n",
              "      <th>PEF</th>\n",
              "      <th>RACEHM</th>\n",
              "      <th>RACELM</th>\n",
              "      <th>RD</th>\n",
              "      <th>RHOB</th>\n",
              "      <th>RM</th>\n",
              "      <th>ROP</th>\n",
              "      <th>RPCEHM</th>\n",
              "      <th>RPCELM</th>\n",
              "      <th>RT</th>\n",
              "    </tr>\n",
              "    <tr>\n",
              "      <th>DEPTH</th>\n",
              "      <th></th>\n",
              "      <th></th>\n",
              "      <th></th>\n",
              "      <th></th>\n",
              "      <th></th>\n",
              "      <th></th>\n",
              "      <th></th>\n",
              "      <th></th>\n",
              "      <th></th>\n",
              "      <th></th>\n",
              "      <th></th>\n",
              "      <th></th>\n",
              "      <th></th>\n",
              "      <th></th>\n",
              "      <th></th>\n",
              "      <th></th>\n",
              "      <th></th>\n",
              "      <th></th>\n",
              "      <th></th>\n",
              "      <th></th>\n",
              "      <th></th>\n",
              "      <th></th>\n",
              "    </tr>\n",
              "  </thead>\n",
              "  <tbody>\n",
              "    <tr>\n",
              "      <th>145.9</th>\n",
              "      <td>NaN</td>\n",
              "      <td>NaN</td>\n",
              "      <td>NaN</td>\n",
              "      <td>NaN</td>\n",
              "      <td>36.0</td>\n",
              "      <td>NaN</td>\n",
              "      <td>NaN</td>\n",
              "      <td>NaN</td>\n",
              "      <td>NaN</td>\n",
              "      <td>NaN</td>\n",
              "      <td>NaN</td>\n",
              "      <td>NaN</td>\n",
              "      <td>NaN</td>\n",
              "      <td>NaN</td>\n",
              "      <td>NaN</td>\n",
              "      <td>NaN</td>\n",
              "      <td>NaN</td>\n",
              "      <td>NaN</td>\n",
              "      <td>NaN</td>\n",
              "      <td>NaN</td>\n",
              "      <td>NaN</td>\n",
              "      <td>NaN</td>\n",
              "    </tr>\n",
              "    <tr>\n",
              "      <th>146.0</th>\n",
              "      <td>NaN</td>\n",
              "      <td>NaN</td>\n",
              "      <td>NaN</td>\n",
              "      <td>NaN</td>\n",
              "      <td>36.0</td>\n",
              "      <td>NaN</td>\n",
              "      <td>NaN</td>\n",
              "      <td>NaN</td>\n",
              "      <td>NaN</td>\n",
              "      <td>NaN</td>\n",
              "      <td>NaN</td>\n",
              "      <td>NaN</td>\n",
              "      <td>NaN</td>\n",
              "      <td>NaN</td>\n",
              "      <td>NaN</td>\n",
              "      <td>NaN</td>\n",
              "      <td>NaN</td>\n",
              "      <td>NaN</td>\n",
              "      <td>NaN</td>\n",
              "      <td>NaN</td>\n",
              "      <td>NaN</td>\n",
              "      <td>NaN</td>\n",
              "    </tr>\n",
              "    <tr>\n",
              "      <th>146.1</th>\n",
              "      <td>NaN</td>\n",
              "      <td>NaN</td>\n",
              "      <td>NaN</td>\n",
              "      <td>NaN</td>\n",
              "      <td>36.0</td>\n",
              "      <td>NaN</td>\n",
              "      <td>NaN</td>\n",
              "      <td>NaN</td>\n",
              "      <td>NaN</td>\n",
              "      <td>NaN</td>\n",
              "      <td>NaN</td>\n",
              "      <td>NaN</td>\n",
              "      <td>NaN</td>\n",
              "      <td>NaN</td>\n",
              "      <td>NaN</td>\n",
              "      <td>NaN</td>\n",
              "      <td>NaN</td>\n",
              "      <td>NaN</td>\n",
              "      <td>NaN</td>\n",
              "      <td>NaN</td>\n",
              "      <td>NaN</td>\n",
              "      <td>NaN</td>\n",
              "    </tr>\n",
              "    <tr>\n",
              "      <th>146.2</th>\n",
              "      <td>NaN</td>\n",
              "      <td>NaN</td>\n",
              "      <td>NaN</td>\n",
              "      <td>NaN</td>\n",
              "      <td>36.0</td>\n",
              "      <td>NaN</td>\n",
              "      <td>NaN</td>\n",
              "      <td>NaN</td>\n",
              "      <td>NaN</td>\n",
              "      <td>NaN</td>\n",
              "      <td>NaN</td>\n",
              "      <td>NaN</td>\n",
              "      <td>NaN</td>\n",
              "      <td>NaN</td>\n",
              "      <td>NaN</td>\n",
              "      <td>NaN</td>\n",
              "      <td>NaN</td>\n",
              "      <td>NaN</td>\n",
              "      <td>NaN</td>\n",
              "      <td>NaN</td>\n",
              "      <td>NaN</td>\n",
              "      <td>NaN</td>\n",
              "    </tr>\n",
              "    <tr>\n",
              "      <th>146.3</th>\n",
              "      <td>NaN</td>\n",
              "      <td>NaN</td>\n",
              "      <td>NaN</td>\n",
              "      <td>NaN</td>\n",
              "      <td>36.0</td>\n",
              "      <td>NaN</td>\n",
              "      <td>NaN</td>\n",
              "      <td>NaN</td>\n",
              "      <td>NaN</td>\n",
              "      <td>NaN</td>\n",
              "      <td>NaN</td>\n",
              "      <td>NaN</td>\n",
              "      <td>NaN</td>\n",
              "      <td>NaN</td>\n",
              "      <td>NaN</td>\n",
              "      <td>NaN</td>\n",
              "      <td>NaN</td>\n",
              "      <td>NaN</td>\n",
              "      <td>NaN</td>\n",
              "      <td>NaN</td>\n",
              "      <td>NaN</td>\n",
              "      <td>NaN</td>\n",
              "    </tr>\n",
              "    <tr>\n",
              "      <th>...</th>\n",
              "      <td>...</td>\n",
              "      <td>...</td>\n",
              "      <td>...</td>\n",
              "      <td>...</td>\n",
              "      <td>...</td>\n",
              "      <td>...</td>\n",
              "      <td>...</td>\n",
              "      <td>...</td>\n",
              "      <td>...</td>\n",
              "      <td>...</td>\n",
              "      <td>...</td>\n",
              "      <td>...</td>\n",
              "      <td>...</td>\n",
              "      <td>...</td>\n",
              "      <td>...</td>\n",
              "      <td>...</td>\n",
              "      <td>...</td>\n",
              "      <td>...</td>\n",
              "      <td>...</td>\n",
              "      <td>...</td>\n",
              "      <td>...</td>\n",
              "      <td>...</td>\n",
              "    </tr>\n",
              "    <tr>\n",
              "      <th>3464.5</th>\n",
              "      <td>NaN</td>\n",
              "      <td>NaN</td>\n",
              "      <td>NaN</td>\n",
              "      <td>NaN</td>\n",
              "      <td>8.5</td>\n",
              "      <td>NaN</td>\n",
              "      <td>NaN</td>\n",
              "      <td>NaN</td>\n",
              "      <td>NaN</td>\n",
              "      <td>NaN</td>\n",
              "      <td>NaN</td>\n",
              "      <td>NaN</td>\n",
              "      <td>NaN</td>\n",
              "      <td>NaN</td>\n",
              "      <td>NaN</td>\n",
              "      <td>NaN</td>\n",
              "      <td>NaN</td>\n",
              "      <td>NaN</td>\n",
              "      <td>29.9836</td>\n",
              "      <td>NaN</td>\n",
              "      <td>NaN</td>\n",
              "      <td>NaN</td>\n",
              "    </tr>\n",
              "    <tr>\n",
              "      <th>3464.6</th>\n",
              "      <td>NaN</td>\n",
              "      <td>NaN</td>\n",
              "      <td>NaN</td>\n",
              "      <td>NaN</td>\n",
              "      <td>8.5</td>\n",
              "      <td>NaN</td>\n",
              "      <td>NaN</td>\n",
              "      <td>NaN</td>\n",
              "      <td>NaN</td>\n",
              "      <td>NaN</td>\n",
              "      <td>NaN</td>\n",
              "      <td>NaN</td>\n",
              "      <td>NaN</td>\n",
              "      <td>NaN</td>\n",
              "      <td>NaN</td>\n",
              "      <td>NaN</td>\n",
              "      <td>NaN</td>\n",
              "      <td>NaN</td>\n",
              "      <td>29.9767</td>\n",
              "      <td>NaN</td>\n",
              "      <td>NaN</td>\n",
              "      <td>NaN</td>\n",
              "    </tr>\n",
              "    <tr>\n",
              "      <th>3464.7</th>\n",
              "      <td>NaN</td>\n",
              "      <td>NaN</td>\n",
              "      <td>NaN</td>\n",
              "      <td>NaN</td>\n",
              "      <td>8.5</td>\n",
              "      <td>NaN</td>\n",
              "      <td>NaN</td>\n",
              "      <td>NaN</td>\n",
              "      <td>NaN</td>\n",
              "      <td>NaN</td>\n",
              "      <td>NaN</td>\n",
              "      <td>NaN</td>\n",
              "      <td>NaN</td>\n",
              "      <td>NaN</td>\n",
              "      <td>NaN</td>\n",
              "      <td>NaN</td>\n",
              "      <td>NaN</td>\n",
              "      <td>NaN</td>\n",
              "      <td>29.9699</td>\n",
              "      <td>NaN</td>\n",
              "      <td>NaN</td>\n",
              "      <td>NaN</td>\n",
              "    </tr>\n",
              "    <tr>\n",
              "      <th>3464.8</th>\n",
              "      <td>NaN</td>\n",
              "      <td>NaN</td>\n",
              "      <td>NaN</td>\n",
              "      <td>NaN</td>\n",
              "      <td>8.5</td>\n",
              "      <td>NaN</td>\n",
              "      <td>NaN</td>\n",
              "      <td>NaN</td>\n",
              "      <td>NaN</td>\n",
              "      <td>NaN</td>\n",
              "      <td>NaN</td>\n",
              "      <td>NaN</td>\n",
              "      <td>NaN</td>\n",
              "      <td>NaN</td>\n",
              "      <td>NaN</td>\n",
              "      <td>NaN</td>\n",
              "      <td>NaN</td>\n",
              "      <td>NaN</td>\n",
              "      <td>29.9903</td>\n",
              "      <td>NaN</td>\n",
              "      <td>NaN</td>\n",
              "      <td>NaN</td>\n",
              "    </tr>\n",
              "    <tr>\n",
              "      <th>3464.9</th>\n",
              "      <td>NaN</td>\n",
              "      <td>NaN</td>\n",
              "      <td>NaN</td>\n",
              "      <td>NaN</td>\n",
              "      <td>8.5</td>\n",
              "      <td>NaN</td>\n",
              "      <td>NaN</td>\n",
              "      <td>NaN</td>\n",
              "      <td>NaN</td>\n",
              "      <td>NaN</td>\n",
              "      <td>NaN</td>\n",
              "      <td>NaN</td>\n",
              "      <td>NaN</td>\n",
              "      <td>NaN</td>\n",
              "      <td>NaN</td>\n",
              "      <td>NaN</td>\n",
              "      <td>NaN</td>\n",
              "      <td>NaN</td>\n",
              "      <td>NaN</td>\n",
              "      <td>NaN</td>\n",
              "      <td>NaN</td>\n",
              "      <td>NaN</td>\n",
              "    </tr>\n",
              "  </tbody>\n",
              "</table>\n",
              "<p>33191 rows × 22 columns</p>\n",
              "</div>"
            ],
            "text/plain": [
              "        ABDCQF01  ABDCQF02  ABDCQF03  ABDCQF04  ...      ROP  RPCEHM  RPCELM  RT\n",
              "DEPTH                                           ...                             \n",
              "145.9        NaN       NaN       NaN       NaN  ...      NaN     NaN     NaN NaN\n",
              "146.0        NaN       NaN       NaN       NaN  ...      NaN     NaN     NaN NaN\n",
              "146.1        NaN       NaN       NaN       NaN  ...      NaN     NaN     NaN NaN\n",
              "146.2        NaN       NaN       NaN       NaN  ...      NaN     NaN     NaN NaN\n",
              "146.3        NaN       NaN       NaN       NaN  ...      NaN     NaN     NaN NaN\n",
              "...          ...       ...       ...       ...  ...      ...     ...     ...  ..\n",
              "3464.5       NaN       NaN       NaN       NaN  ...  29.9836     NaN     NaN NaN\n",
              "3464.6       NaN       NaN       NaN       NaN  ...  29.9767     NaN     NaN NaN\n",
              "3464.7       NaN       NaN       NaN       NaN  ...  29.9699     NaN     NaN NaN\n",
              "3464.8       NaN       NaN       NaN       NaN  ...  29.9903     NaN     NaN NaN\n",
              "3464.9       NaN       NaN       NaN       NaN  ...      NaN     NaN     NaN NaN\n",
              "\n",
              "[33191 rows x 22 columns]"
            ]
          },
          "metadata": {
            "tags": []
          },
          "execution_count": 2
        }
      ]
    },
    {
      "cell_type": "markdown",
      "metadata": {
        "id": "B_iaGqYiYTpc",
        "colab_type": "text"
      },
      "source": [
        "E10"
      ]
    },
    {
      "cell_type": "code",
      "metadata": {
        "id": "50h1N2KxOTlT",
        "colab_type": "code",
        "colab": {
          "base_uri": "https://localhost:8080/",
          "height": 34
        },
        "outputId": "9c7af8b2-8d62-4c59-aa0b-962d1bac443e"
      },
      "source": [
        "bs = log_data['BS']\n",
        "col = bs.to_numpy()\n",
        "col"
      ],
      "execution_count": 3,
      "outputs": [
        {
          "output_type": "execute_result",
          "data": {
            "text/plain": [
              "array([36. , 36. , 36. , ...,  8.5,  8.5,  8.5])"
            ]
          },
          "metadata": {
            "tags": []
          },
          "execution_count": 3
        }
      ]
    },
    {
      "cell_type": "markdown",
      "metadata": {
        "id": "i5RGrhnWYWrl",
        "colab_type": "text"
      },
      "source": [
        "E11"
      ]
    },
    {
      "cell_type": "code",
      "metadata": {
        "id": "0x_TG-SsO-hT",
        "colab_type": "code",
        "colab": {
          "base_uri": "https://localhost:8080/",
          "height": 204
        },
        "outputId": "9a0a2733-1f84-4f85-ed1d-6afa4463dfb6"
      },
      "source": [
        "log_data['BS'].value_counts()"
      ],
      "execution_count": 4,
      "outputs": [
        {
          "output_type": "execute_result",
          "data": {
            "text/plain": [
              "17.5000    12469\n",
              "26.0000    11289\n",
              "12.2500     4827\n",
              "8.5000      3800\n",
              "36.0000      800\n",
              "12.2283        2\n",
              "8.5217         1\n",
              "25.9508        1\n",
              "17.4696        1\n",
              "35.9421        1\n",
              "Name: BS, dtype: int64"
            ]
          },
          "metadata": {
            "tags": []
          },
          "execution_count": 4
        }
      ]
    },
    {
      "cell_type": "markdown",
      "metadata": {
        "id": "yjFi8Bh7YZym",
        "colab_type": "text"
      },
      "source": [
        "E12"
      ]
    },
    {
      "cell_type": "code",
      "metadata": {
        "id": "ej_nPeG2PHIT",
        "colab_type": "code",
        "colab": {
          "base_uri": "https://localhost:8080/",
          "height": 34
        },
        "outputId": "9dfe8678-d140-41a8-eda5-2f3dcd91caa8"
      },
      "source": [
        "log_data['BS'].nunique()"
      ],
      "execution_count": 5,
      "outputs": [
        {
          "output_type": "execute_result",
          "data": {
            "text/plain": [
              "10"
            ]
          },
          "metadata": {
            "tags": []
          },
          "execution_count": 5
        }
      ]
    },
    {
      "cell_type": "markdown",
      "metadata": {
        "id": "sfX67ISvYbfZ",
        "colab_type": "text"
      },
      "source": [
        "E13"
      ]
    },
    {
      "cell_type": "code",
      "metadata": {
        "id": "S-2tRodmPvWq",
        "colab_type": "code",
        "colab": {
          "base_uri": "https://localhost:8080/",
          "height": 85
        },
        "outputId": "99fb1554-aaec-4e9e-83d5-b89b94c29bee"
      },
      "source": [
        "minimum = log_data['GR'].min()\n",
        "percentile_25 = log_data['GR'].quantile(0.25)\n",
        "median = log_data['GR'].median()\n",
        "percentile_75 = log_data['GR'].quantile(0.75)\n",
        "print('Minimum is ' + str(minimum))\n",
        "print('25th Percentile is ' + str(percentile_25))\n",
        "print('Median is ' + str(median))\n",
        "print('75th Percentile is ' + str(percentile_75))"
      ],
      "execution_count": 7,
      "outputs": [
        {
          "output_type": "stream",
          "text": [
            "Minimum is 0.1493\n",
            "25th Percentile is 29.481175\n",
            "Median is 58.005700000000004\n",
            "75th Percentile is 79.2472\n"
          ],
          "name": "stdout"
        }
      ]
    },
    {
      "cell_type": "markdown",
      "metadata": {
        "id": "rsrng5-AYeYA",
        "colab_type": "text"
      },
      "source": [
        "E14"
      ]
    },
    {
      "cell_type": "code",
      "metadata": {
        "id": "LAJ9cE7DRXQ0",
        "colab_type": "code",
        "colab": {
          "base_uri": "https://localhost:8080/",
          "height": 238
        },
        "outputId": "cdafadc9-44a0-4d12-a314-1dbdf5fb43fc"
      },
      "source": [
        "log_data['BS'] = log_data['BS'].replace([36], 40)\n",
        "log_data['BS']"
      ],
      "execution_count": 8,
      "outputs": [
        {
          "output_type": "execute_result",
          "data": {
            "text/plain": [
              "DEPTH\n",
              "145.9     40.0\n",
              "146.0     40.0\n",
              "146.1     40.0\n",
              "146.2     40.0\n",
              "146.3     40.0\n",
              "          ... \n",
              "3464.5     8.5\n",
              "3464.6     8.5\n",
              "3464.7     8.5\n",
              "3464.8     8.5\n",
              "3464.9     8.5\n",
              "Name: BS, Length: 33191, dtype: float64"
            ]
          },
          "metadata": {
            "tags": []
          },
          "execution_count": 8
        }
      ]
    },
    {
      "cell_type": "markdown",
      "metadata": {
        "id": "0Mi07P4TYgay",
        "colab_type": "text"
      },
      "source": [
        "E15"
      ]
    },
    {
      "cell_type": "code",
      "metadata": {
        "id": "pLDkqGnjR7ZH",
        "colab_type": "code",
        "colab": {
          "base_uri": "https://localhost:8080/",
          "height": 609
        },
        "outputId": "88e2353d-fa91-4d4a-e605-472983a909bc"
      },
      "source": [
        "import pandas as pd\n",
        "production_data = pd.read_csv('https://raw.githubusercontent.com/Energy-AI/basic_course/master/Lecture_3/data/prod_data.csv?token=AQU7K5AP2LVRN325XOLVPK27MTZLS')\n",
        "del production_data['Unnamed: 0']\n",
        "production_data"
      ],
      "execution_count": 17,
      "outputs": [
        {
          "output_type": "execute_result",
          "data": {
            "text/html": [
              "<div>\n",
              "<style scoped>\n",
              "    .dataframe tbody tr th:only-of-type {\n",
              "        vertical-align: middle;\n",
              "    }\n",
              "\n",
              "    .dataframe tbody tr th {\n",
              "        vertical-align: top;\n",
              "    }\n",
              "\n",
              "    .dataframe thead th {\n",
              "        text-align: right;\n",
              "    }\n",
              "</style>\n",
              "<table border=\"1\" class=\"dataframe\">\n",
              "  <thead>\n",
              "    <tr style=\"text-align: right;\">\n",
              "      <th></th>\n",
              "      <th>DATEPRD</th>\n",
              "      <th>AVG_DOWNHOLE_PRESSURE</th>\n",
              "      <th>AVG_DOWNHOLE_TEMPERATURE</th>\n",
              "      <th>AVG_DP_TUBING</th>\n",
              "      <th>AVG_ANNULUS_PRESS</th>\n",
              "      <th>AVG_CHOKE_SIZE_P</th>\n",
              "      <th>AVG_CHOKE_UOM</th>\n",
              "      <th>AVG_WHP_P</th>\n",
              "      <th>AVG_WHT_P</th>\n",
              "      <th>DP_CHOKE_SIZE</th>\n",
              "      <th>BORE_OIL_VOL</th>\n",
              "      <th>BORE_GAS_VOL</th>\n",
              "      <th>BORE_WAT_VOL</th>\n",
              "      <th>BORE_WI_VOL</th>\n",
              "      <th>FLOW_KIND</th>\n",
              "      <th>WELL_TYPE</th>\n",
              "    </tr>\n",
              "  </thead>\n",
              "  <tbody>\n",
              "    <tr>\n",
              "      <th>0</th>\n",
              "      <td>2014-04-07</td>\n",
              "      <td>0.00000</td>\n",
              "      <td>0.00000</td>\n",
              "      <td>0.00000</td>\n",
              "      <td>0.00000</td>\n",
              "      <td>0.000000</td>\n",
              "      <td>%</td>\n",
              "      <td>0.00000</td>\n",
              "      <td>0.00000</td>\n",
              "      <td>0.00000</td>\n",
              "      <td>0.0</td>\n",
              "      <td>0.0</td>\n",
              "      <td>0.0</td>\n",
              "      <td>NaN</td>\n",
              "      <td>production</td>\n",
              "      <td>WI</td>\n",
              "    </tr>\n",
              "    <tr>\n",
              "      <th>1</th>\n",
              "      <td>2014-04-08</td>\n",
              "      <td>NaN</td>\n",
              "      <td>NaN</td>\n",
              "      <td>NaN</td>\n",
              "      <td>0.00000</td>\n",
              "      <td>1.003059</td>\n",
              "      <td>%</td>\n",
              "      <td>0.00000</td>\n",
              "      <td>0.00000</td>\n",
              "      <td>0.00000</td>\n",
              "      <td>0.0</td>\n",
              "      <td>0.0</td>\n",
              "      <td>0.0</td>\n",
              "      <td>NaN</td>\n",
              "      <td>production</td>\n",
              "      <td>OP</td>\n",
              "    </tr>\n",
              "    <tr>\n",
              "      <th>2</th>\n",
              "      <td>2014-04-09</td>\n",
              "      <td>NaN</td>\n",
              "      <td>NaN</td>\n",
              "      <td>NaN</td>\n",
              "      <td>0.00000</td>\n",
              "      <td>0.979008</td>\n",
              "      <td>%</td>\n",
              "      <td>0.00000</td>\n",
              "      <td>0.00000</td>\n",
              "      <td>0.00000</td>\n",
              "      <td>0.0</td>\n",
              "      <td>0.0</td>\n",
              "      <td>0.0</td>\n",
              "      <td>NaN</td>\n",
              "      <td>production</td>\n",
              "      <td>OP</td>\n",
              "    </tr>\n",
              "    <tr>\n",
              "      <th>3</th>\n",
              "      <td>2014-04-10</td>\n",
              "      <td>NaN</td>\n",
              "      <td>NaN</td>\n",
              "      <td>NaN</td>\n",
              "      <td>0.00000</td>\n",
              "      <td>0.545759</td>\n",
              "      <td>%</td>\n",
              "      <td>0.00000</td>\n",
              "      <td>0.00000</td>\n",
              "      <td>0.00000</td>\n",
              "      <td>0.0</td>\n",
              "      <td>0.0</td>\n",
              "      <td>0.0</td>\n",
              "      <td>NaN</td>\n",
              "      <td>production</td>\n",
              "      <td>OP</td>\n",
              "    </tr>\n",
              "    <tr>\n",
              "      <th>4</th>\n",
              "      <td>2014-04-11</td>\n",
              "      <td>310.37614</td>\n",
              "      <td>96.87589</td>\n",
              "      <td>277.27826</td>\n",
              "      <td>0.00000</td>\n",
              "      <td>1.215987</td>\n",
              "      <td>%</td>\n",
              "      <td>33.09788</td>\n",
              "      <td>10.47992</td>\n",
              "      <td>33.07195</td>\n",
              "      <td>0.0</td>\n",
              "      <td>0.0</td>\n",
              "      <td>0.0</td>\n",
              "      <td>NaN</td>\n",
              "      <td>production</td>\n",
              "      <td>OP</td>\n",
              "    </tr>\n",
              "    <tr>\n",
              "      <th>...</th>\n",
              "      <td>...</td>\n",
              "      <td>...</td>\n",
              "      <td>...</td>\n",
              "      <td>...</td>\n",
              "      <td>...</td>\n",
              "      <td>...</td>\n",
              "      <td>...</td>\n",
              "      <td>...</td>\n",
              "      <td>...</td>\n",
              "      <td>...</td>\n",
              "      <td>...</td>\n",
              "      <td>...</td>\n",
              "      <td>...</td>\n",
              "      <td>...</td>\n",
              "      <td>...</td>\n",
              "      <td>...</td>\n",
              "    </tr>\n",
              "    <tr>\n",
              "      <th>15629</th>\n",
              "      <td>2016-09-14</td>\n",
              "      <td>NaN</td>\n",
              "      <td>NaN</td>\n",
              "      <td>NaN</td>\n",
              "      <td>0.27272</td>\n",
              "      <td>0.636088</td>\n",
              "      <td>%</td>\n",
              "      <td>0.07776</td>\n",
              "      <td>0.22879</td>\n",
              "      <td>0.01862</td>\n",
              "      <td>0.0</td>\n",
              "      <td>0.0</td>\n",
              "      <td>0.0</td>\n",
              "      <td>NaN</td>\n",
              "      <td>production</td>\n",
              "      <td>OP</td>\n",
              "    </tr>\n",
              "    <tr>\n",
              "      <th>15630</th>\n",
              "      <td>2016-09-15</td>\n",
              "      <td>NaN</td>\n",
              "      <td>NaN</td>\n",
              "      <td>NaN</td>\n",
              "      <td>0.28686</td>\n",
              "      <td>0.670794</td>\n",
              "      <td>%</td>\n",
              "      <td>0.08545</td>\n",
              "      <td>0.22914</td>\n",
              "      <td>0.00631</td>\n",
              "      <td>0.0</td>\n",
              "      <td>0.0</td>\n",
              "      <td>0.0</td>\n",
              "      <td>NaN</td>\n",
              "      <td>production</td>\n",
              "      <td>OP</td>\n",
              "    </tr>\n",
              "    <tr>\n",
              "      <th>15631</th>\n",
              "      <td>2016-09-16</td>\n",
              "      <td>NaN</td>\n",
              "      <td>NaN</td>\n",
              "      <td>NaN</td>\n",
              "      <td>0.28604</td>\n",
              "      <td>0.664393</td>\n",
              "      <td>%</td>\n",
              "      <td>0.08544</td>\n",
              "      <td>0.22896</td>\n",
              "      <td>0.01181</td>\n",
              "      <td>0.0</td>\n",
              "      <td>0.0</td>\n",
              "      <td>0.0</td>\n",
              "      <td>NaN</td>\n",
              "      <td>production</td>\n",
              "      <td>OP</td>\n",
              "    </tr>\n",
              "    <tr>\n",
              "      <th>15632</th>\n",
              "      <td>2016-09-17</td>\n",
              "      <td>NaN</td>\n",
              "      <td>NaN</td>\n",
              "      <td>NaN</td>\n",
              "      <td>0.27212</td>\n",
              "      <td>0.624660</td>\n",
              "      <td>%</td>\n",
              "      <td>0.07497</td>\n",
              "      <td>0.22846</td>\n",
              "      <td>0.02576</td>\n",
              "      <td>0.0</td>\n",
              "      <td>0.0</td>\n",
              "      <td>0.0</td>\n",
              "      <td>NaN</td>\n",
              "      <td>production</td>\n",
              "      <td>OP</td>\n",
              "    </tr>\n",
              "    <tr>\n",
              "      <th>15633</th>\n",
              "      <td>2016-09-18</td>\n",
              "      <td>NaN</td>\n",
              "      <td>NaN</td>\n",
              "      <td>NaN</td>\n",
              "      <td>NaN</td>\n",
              "      <td>NaN</td>\n",
              "      <td>NaN</td>\n",
              "      <td>NaN</td>\n",
              "      <td>NaN</td>\n",
              "      <td>0.00000</td>\n",
              "      <td>NaN</td>\n",
              "      <td>NaN</td>\n",
              "      <td>NaN</td>\n",
              "      <td>0.0</td>\n",
              "      <td>injection</td>\n",
              "      <td>WI</td>\n",
              "    </tr>\n",
              "  </tbody>\n",
              "</table>\n",
              "<p>15634 rows × 16 columns</p>\n",
              "</div>"
            ],
            "text/plain": [
              "          DATEPRD  AVG_DOWNHOLE_PRESSURE  ...   FLOW_KIND  WELL_TYPE\n",
              "0      2014-04-07                0.00000  ...  production         WI\n",
              "1      2014-04-08                    NaN  ...  production         OP\n",
              "2      2014-04-09                    NaN  ...  production         OP\n",
              "3      2014-04-10                    NaN  ...  production         OP\n",
              "4      2014-04-11              310.37614  ...  production         OP\n",
              "...           ...                    ...  ...         ...        ...\n",
              "15629  2016-09-14                    NaN  ...  production         OP\n",
              "15630  2016-09-15                    NaN  ...  production         OP\n",
              "15631  2016-09-16                    NaN  ...  production         OP\n",
              "15632  2016-09-17                    NaN  ...  production         OP\n",
              "15633  2016-09-18                    NaN  ...   injection         WI\n",
              "\n",
              "[15634 rows x 16 columns]"
            ]
          },
          "metadata": {
            "tags": []
          },
          "execution_count": 17
        }
      ]
    },
    {
      "cell_type": "markdown",
      "metadata": {
        "id": "Pyn-SaQFYio-",
        "colab_type": "text"
      },
      "source": [
        "E16"
      ]
    },
    {
      "cell_type": "code",
      "metadata": {
        "id": "Vnz_FdG1VSDp",
        "colab_type": "code",
        "colab": {
          "base_uri": "https://localhost:8080/",
          "height": 221
        },
        "outputId": "37921a80-01f9-456f-a661-8ce2237e723b"
      },
      "source": [
        "production_data['DATEPRD'] = pd.to_datetime(production_data['DATEPRD'])\n",
        "production_data['DATEPRD']"
      ],
      "execution_count": 18,
      "outputs": [
        {
          "output_type": "execute_result",
          "data": {
            "text/plain": [
              "0       2014-04-07\n",
              "1       2014-04-08\n",
              "2       2014-04-09\n",
              "3       2014-04-10\n",
              "4       2014-04-11\n",
              "           ...    \n",
              "15629   2016-09-14\n",
              "15630   2016-09-15\n",
              "15631   2016-09-16\n",
              "15632   2016-09-17\n",
              "15633   2016-09-18\n",
              "Name: DATEPRD, Length: 15634, dtype: datetime64[ns]"
            ]
          },
          "metadata": {
            "tags": []
          },
          "execution_count": 18
        }
      ]
    },
    {
      "cell_type": "code",
      "metadata": {
        "id": "3WRw3ZqgVtcD",
        "colab_type": "code",
        "colab": {
          "base_uri": "https://localhost:8080/",
          "height": 640
        },
        "outputId": "cd38b587-d7f1-49d0-8813-48862daaad48"
      },
      "source": [
        "production_data.set_index('DATEPRD', inplace = True)\n",
        "production_data"
      ],
      "execution_count": 20,
      "outputs": [
        {
          "output_type": "execute_result",
          "data": {
            "text/html": [
              "<div>\n",
              "<style scoped>\n",
              "    .dataframe tbody tr th:only-of-type {\n",
              "        vertical-align: middle;\n",
              "    }\n",
              "\n",
              "    .dataframe tbody tr th {\n",
              "        vertical-align: top;\n",
              "    }\n",
              "\n",
              "    .dataframe thead th {\n",
              "        text-align: right;\n",
              "    }\n",
              "</style>\n",
              "<table border=\"1\" class=\"dataframe\">\n",
              "  <thead>\n",
              "    <tr style=\"text-align: right;\">\n",
              "      <th></th>\n",
              "      <th>AVG_DOWNHOLE_PRESSURE</th>\n",
              "      <th>AVG_DOWNHOLE_TEMPERATURE</th>\n",
              "      <th>AVG_DP_TUBING</th>\n",
              "      <th>AVG_ANNULUS_PRESS</th>\n",
              "      <th>AVG_CHOKE_SIZE_P</th>\n",
              "      <th>AVG_CHOKE_UOM</th>\n",
              "      <th>AVG_WHP_P</th>\n",
              "      <th>AVG_WHT_P</th>\n",
              "      <th>DP_CHOKE_SIZE</th>\n",
              "      <th>BORE_OIL_VOL</th>\n",
              "      <th>BORE_GAS_VOL</th>\n",
              "      <th>BORE_WAT_VOL</th>\n",
              "      <th>BORE_WI_VOL</th>\n",
              "      <th>FLOW_KIND</th>\n",
              "      <th>WELL_TYPE</th>\n",
              "    </tr>\n",
              "    <tr>\n",
              "      <th>DATEPRD</th>\n",
              "      <th></th>\n",
              "      <th></th>\n",
              "      <th></th>\n",
              "      <th></th>\n",
              "      <th></th>\n",
              "      <th></th>\n",
              "      <th></th>\n",
              "      <th></th>\n",
              "      <th></th>\n",
              "      <th></th>\n",
              "      <th></th>\n",
              "      <th></th>\n",
              "      <th></th>\n",
              "      <th></th>\n",
              "      <th></th>\n",
              "    </tr>\n",
              "  </thead>\n",
              "  <tbody>\n",
              "    <tr>\n",
              "      <th>2014-04-07</th>\n",
              "      <td>0.00000</td>\n",
              "      <td>0.00000</td>\n",
              "      <td>0.00000</td>\n",
              "      <td>0.00000</td>\n",
              "      <td>0.000000</td>\n",
              "      <td>%</td>\n",
              "      <td>0.00000</td>\n",
              "      <td>0.00000</td>\n",
              "      <td>0.00000</td>\n",
              "      <td>0.0</td>\n",
              "      <td>0.0</td>\n",
              "      <td>0.0</td>\n",
              "      <td>NaN</td>\n",
              "      <td>production</td>\n",
              "      <td>WI</td>\n",
              "    </tr>\n",
              "    <tr>\n",
              "      <th>2014-04-08</th>\n",
              "      <td>NaN</td>\n",
              "      <td>NaN</td>\n",
              "      <td>NaN</td>\n",
              "      <td>0.00000</td>\n",
              "      <td>1.003059</td>\n",
              "      <td>%</td>\n",
              "      <td>0.00000</td>\n",
              "      <td>0.00000</td>\n",
              "      <td>0.00000</td>\n",
              "      <td>0.0</td>\n",
              "      <td>0.0</td>\n",
              "      <td>0.0</td>\n",
              "      <td>NaN</td>\n",
              "      <td>production</td>\n",
              "      <td>OP</td>\n",
              "    </tr>\n",
              "    <tr>\n",
              "      <th>2014-04-09</th>\n",
              "      <td>NaN</td>\n",
              "      <td>NaN</td>\n",
              "      <td>NaN</td>\n",
              "      <td>0.00000</td>\n",
              "      <td>0.979008</td>\n",
              "      <td>%</td>\n",
              "      <td>0.00000</td>\n",
              "      <td>0.00000</td>\n",
              "      <td>0.00000</td>\n",
              "      <td>0.0</td>\n",
              "      <td>0.0</td>\n",
              "      <td>0.0</td>\n",
              "      <td>NaN</td>\n",
              "      <td>production</td>\n",
              "      <td>OP</td>\n",
              "    </tr>\n",
              "    <tr>\n",
              "      <th>2014-04-10</th>\n",
              "      <td>NaN</td>\n",
              "      <td>NaN</td>\n",
              "      <td>NaN</td>\n",
              "      <td>0.00000</td>\n",
              "      <td>0.545759</td>\n",
              "      <td>%</td>\n",
              "      <td>0.00000</td>\n",
              "      <td>0.00000</td>\n",
              "      <td>0.00000</td>\n",
              "      <td>0.0</td>\n",
              "      <td>0.0</td>\n",
              "      <td>0.0</td>\n",
              "      <td>NaN</td>\n",
              "      <td>production</td>\n",
              "      <td>OP</td>\n",
              "    </tr>\n",
              "    <tr>\n",
              "      <th>2014-04-11</th>\n",
              "      <td>310.37614</td>\n",
              "      <td>96.87589</td>\n",
              "      <td>277.27826</td>\n",
              "      <td>0.00000</td>\n",
              "      <td>1.215987</td>\n",
              "      <td>%</td>\n",
              "      <td>33.09788</td>\n",
              "      <td>10.47992</td>\n",
              "      <td>33.07195</td>\n",
              "      <td>0.0</td>\n",
              "      <td>0.0</td>\n",
              "      <td>0.0</td>\n",
              "      <td>NaN</td>\n",
              "      <td>production</td>\n",
              "      <td>OP</td>\n",
              "    </tr>\n",
              "    <tr>\n",
              "      <th>...</th>\n",
              "      <td>...</td>\n",
              "      <td>...</td>\n",
              "      <td>...</td>\n",
              "      <td>...</td>\n",
              "      <td>...</td>\n",
              "      <td>...</td>\n",
              "      <td>...</td>\n",
              "      <td>...</td>\n",
              "      <td>...</td>\n",
              "      <td>...</td>\n",
              "      <td>...</td>\n",
              "      <td>...</td>\n",
              "      <td>...</td>\n",
              "      <td>...</td>\n",
              "      <td>...</td>\n",
              "    </tr>\n",
              "    <tr>\n",
              "      <th>2016-09-14</th>\n",
              "      <td>NaN</td>\n",
              "      <td>NaN</td>\n",
              "      <td>NaN</td>\n",
              "      <td>0.27272</td>\n",
              "      <td>0.636088</td>\n",
              "      <td>%</td>\n",
              "      <td>0.07776</td>\n",
              "      <td>0.22879</td>\n",
              "      <td>0.01862</td>\n",
              "      <td>0.0</td>\n",
              "      <td>0.0</td>\n",
              "      <td>0.0</td>\n",
              "      <td>NaN</td>\n",
              "      <td>production</td>\n",
              "      <td>OP</td>\n",
              "    </tr>\n",
              "    <tr>\n",
              "      <th>2016-09-15</th>\n",
              "      <td>NaN</td>\n",
              "      <td>NaN</td>\n",
              "      <td>NaN</td>\n",
              "      <td>0.28686</td>\n",
              "      <td>0.670794</td>\n",
              "      <td>%</td>\n",
              "      <td>0.08545</td>\n",
              "      <td>0.22914</td>\n",
              "      <td>0.00631</td>\n",
              "      <td>0.0</td>\n",
              "      <td>0.0</td>\n",
              "      <td>0.0</td>\n",
              "      <td>NaN</td>\n",
              "      <td>production</td>\n",
              "      <td>OP</td>\n",
              "    </tr>\n",
              "    <tr>\n",
              "      <th>2016-09-16</th>\n",
              "      <td>NaN</td>\n",
              "      <td>NaN</td>\n",
              "      <td>NaN</td>\n",
              "      <td>0.28604</td>\n",
              "      <td>0.664393</td>\n",
              "      <td>%</td>\n",
              "      <td>0.08544</td>\n",
              "      <td>0.22896</td>\n",
              "      <td>0.01181</td>\n",
              "      <td>0.0</td>\n",
              "      <td>0.0</td>\n",
              "      <td>0.0</td>\n",
              "      <td>NaN</td>\n",
              "      <td>production</td>\n",
              "      <td>OP</td>\n",
              "    </tr>\n",
              "    <tr>\n",
              "      <th>2016-09-17</th>\n",
              "      <td>NaN</td>\n",
              "      <td>NaN</td>\n",
              "      <td>NaN</td>\n",
              "      <td>0.27212</td>\n",
              "      <td>0.624660</td>\n",
              "      <td>%</td>\n",
              "      <td>0.07497</td>\n",
              "      <td>0.22846</td>\n",
              "      <td>0.02576</td>\n",
              "      <td>0.0</td>\n",
              "      <td>0.0</td>\n",
              "      <td>0.0</td>\n",
              "      <td>NaN</td>\n",
              "      <td>production</td>\n",
              "      <td>OP</td>\n",
              "    </tr>\n",
              "    <tr>\n",
              "      <th>2016-09-18</th>\n",
              "      <td>NaN</td>\n",
              "      <td>NaN</td>\n",
              "      <td>NaN</td>\n",
              "      <td>NaN</td>\n",
              "      <td>NaN</td>\n",
              "      <td>NaN</td>\n",
              "      <td>NaN</td>\n",
              "      <td>NaN</td>\n",
              "      <td>0.00000</td>\n",
              "      <td>NaN</td>\n",
              "      <td>NaN</td>\n",
              "      <td>NaN</td>\n",
              "      <td>0.0</td>\n",
              "      <td>injection</td>\n",
              "      <td>WI</td>\n",
              "    </tr>\n",
              "  </tbody>\n",
              "</table>\n",
              "<p>15634 rows × 15 columns</p>\n",
              "</div>"
            ],
            "text/plain": [
              "            AVG_DOWNHOLE_PRESSURE  ...  WELL_TYPE\n",
              "DATEPRD                            ...           \n",
              "2014-04-07                0.00000  ...         WI\n",
              "2014-04-08                    NaN  ...         OP\n",
              "2014-04-09                    NaN  ...         OP\n",
              "2014-04-10                    NaN  ...         OP\n",
              "2014-04-11              310.37614  ...         OP\n",
              "...                           ...  ...        ...\n",
              "2016-09-14                    NaN  ...         OP\n",
              "2016-09-15                    NaN  ...         OP\n",
              "2016-09-16                    NaN  ...         OP\n",
              "2016-09-17                    NaN  ...         OP\n",
              "2016-09-18                    NaN  ...         WI\n",
              "\n",
              "[15634 rows x 15 columns]"
            ]
          },
          "metadata": {
            "tags": []
          },
          "execution_count": 20
        }
      ]
    },
    {
      "cell_type": "markdown",
      "metadata": {
        "id": "4N15C73saBFy",
        "colab_type": "text"
      },
      "source": [
        "E17"
      ]
    },
    {
      "cell_type": "code",
      "metadata": {
        "id": "j8E8Vmq1Z0FN",
        "colab_type": "code",
        "colab": {
          "base_uri": "https://localhost:8080/",
          "height": 580
        },
        "outputId": "40c4081f-5a56-4103-dc9e-4c1d69d614a4"
      },
      "source": [
        "production_data.groupby(pd.Grouper(freq='Y')).sum()"
      ],
      "execution_count": 23,
      "outputs": [
        {
          "output_type": "execute_result",
          "data": {
            "text/html": [
              "<div>\n",
              "<style scoped>\n",
              "    .dataframe tbody tr th:only-of-type {\n",
              "        vertical-align: middle;\n",
              "    }\n",
              "\n",
              "    .dataframe tbody tr th {\n",
              "        vertical-align: top;\n",
              "    }\n",
              "\n",
              "    .dataframe thead th {\n",
              "        text-align: right;\n",
              "    }\n",
              "</style>\n",
              "<table border=\"1\" class=\"dataframe\">\n",
              "  <thead>\n",
              "    <tr style=\"text-align: right;\">\n",
              "      <th></th>\n",
              "      <th>AVG_DOWNHOLE_PRESSURE</th>\n",
              "      <th>AVG_DOWNHOLE_TEMPERATURE</th>\n",
              "      <th>AVG_DP_TUBING</th>\n",
              "      <th>AVG_ANNULUS_PRESS</th>\n",
              "      <th>AVG_CHOKE_SIZE_P</th>\n",
              "      <th>AVG_WHP_P</th>\n",
              "      <th>AVG_WHT_P</th>\n",
              "      <th>DP_CHOKE_SIZE</th>\n",
              "      <th>BORE_OIL_VOL</th>\n",
              "      <th>BORE_GAS_VOL</th>\n",
              "      <th>BORE_WAT_VOL</th>\n",
              "      <th>BORE_WI_VOL</th>\n",
              "    </tr>\n",
              "    <tr>\n",
              "      <th>DATEPRD</th>\n",
              "      <th></th>\n",
              "      <th></th>\n",
              "      <th></th>\n",
              "      <th></th>\n",
              "      <th></th>\n",
              "      <th></th>\n",
              "      <th></th>\n",
              "      <th></th>\n",
              "      <th></th>\n",
              "      <th></th>\n",
              "      <th></th>\n",
              "      <th></th>\n",
              "    </tr>\n",
              "  </thead>\n",
              "  <tbody>\n",
              "    <tr>\n",
              "      <th>2007-12-31</th>\n",
              "      <td>0.000000</td>\n",
              "      <td>0.000000</td>\n",
              "      <td>0.000000</td>\n",
              "      <td>0.000000</td>\n",
              "      <td>0.000000</td>\n",
              "      <td>0.000000</td>\n",
              "      <td>0.000000</td>\n",
              "      <td>0.000000</td>\n",
              "      <td>0.00</td>\n",
              "      <td>0.000000e+00</td>\n",
              "      <td>0.00</td>\n",
              "      <td>0.000000e+00</td>\n",
              "    </tr>\n",
              "    <tr>\n",
              "      <th>2008-12-31</th>\n",
              "      <td>126332.310680</td>\n",
              "      <td>53145.321325</td>\n",
              "      <td>86636.465440</td>\n",
              "      <td>4025.115398</td>\n",
              "      <td>19763.257827</td>\n",
              "      <td>39695.845240</td>\n",
              "      <td>36453.959314</td>\n",
              "      <td>27182.395652</td>\n",
              "      <td>1764375.15</td>\n",
              "      <td>2.570386e+08</td>\n",
              "      <td>23508.94</td>\n",
              "      <td>2.417770e+06</td>\n",
              "    </tr>\n",
              "    <tr>\n",
              "      <th>2009-12-31</th>\n",
              "      <td>171879.218917</td>\n",
              "      <td>74141.591116</td>\n",
              "      <td>121894.132257</td>\n",
              "      <td>5621.077441</td>\n",
              "      <td>33456.352462</td>\n",
              "      <td>51945.817217</td>\n",
              "      <td>55808.568903</td>\n",
              "      <td>29335.704672</td>\n",
              "      <td>2684392.04</td>\n",
              "      <td>3.759820e+08</td>\n",
              "      <td>232103.74</td>\n",
              "      <td>4.392198e+06</td>\n",
              "    </tr>\n",
              "    <tr>\n",
              "      <th>2010-12-31</th>\n",
              "      <td>160502.923169</td>\n",
              "      <td>66601.974941</td>\n",
              "      <td>132274.102660</td>\n",
              "      <td>8348.346807</td>\n",
              "      <td>41160.007435</td>\n",
              "      <td>37669.600702</td>\n",
              "      <td>61336.154932</td>\n",
              "      <td>14810.973585</td>\n",
              "      <td>1689902.55</td>\n",
              "      <td>2.439484e+08</td>\n",
              "      <td>1887594.78</td>\n",
              "      <td>4.569394e+06</td>\n",
              "    </tr>\n",
              "    <tr>\n",
              "      <th>2011-12-31</th>\n",
              "      <td>83850.168072</td>\n",
              "      <td>34777.523747</td>\n",
              "      <td>83890.420230</td>\n",
              "      <td>6295.671376</td>\n",
              "      <td>43363.813540</td>\n",
              "      <td>31970.430852</td>\n",
              "      <td>54738.515777</td>\n",
              "      <td>12759.319522</td>\n",
              "      <td>847965.40</td>\n",
              "      <td>1.303202e+08</td>\n",
              "      <td>2190640.28</td>\n",
              "      <td>3.442446e+06</td>\n",
              "    </tr>\n",
              "    <tr>\n",
              "      <th>2012-12-31</th>\n",
              "      <td>78690.519824</td>\n",
              "      <td>34035.076791</td>\n",
              "      <td>77876.822481</td>\n",
              "      <td>6526.369311</td>\n",
              "      <td>51541.883105</td>\n",
              "      <td>23937.162317</td>\n",
              "      <td>54169.571480</td>\n",
              "      <td>5627.735295</td>\n",
              "      <td>574206.33</td>\n",
              "      <td>9.020864e+07</td>\n",
              "      <td>2109601.63</td>\n",
              "      <td>2.975214e+06</td>\n",
              "    </tr>\n",
              "    <tr>\n",
              "      <th>2013-12-31</th>\n",
              "      <td>127489.850406</td>\n",
              "      <td>51721.968030</td>\n",
              "      <td>114485.516138</td>\n",
              "      <td>15130.560085</td>\n",
              "      <td>61802.833284</td>\n",
              "      <td>36129.971488</td>\n",
              "      <td>69116.398131</td>\n",
              "      <td>12179.211410</td>\n",
              "      <td>558012.53</td>\n",
              "      <td>8.758778e+07</td>\n",
              "      <td>2576365.79</td>\n",
              "      <td>3.453761e+06</td>\n",
              "    </tr>\n",
              "    <tr>\n",
              "      <th>2014-12-31</th>\n",
              "      <td>317179.952517</td>\n",
              "      <td>140112.726769</td>\n",
              "      <td>268830.071114</td>\n",
              "      <td>27382.392622</td>\n",
              "      <td>78508.192935</td>\n",
              "      <td>78982.288089</td>\n",
              "      <td>103858.640858</td>\n",
              "      <td>32737.373560</td>\n",
              "      <td>743107.49</td>\n",
              "      <td>1.117919e+08</td>\n",
              "      <td>2716070.92</td>\n",
              "      <td>3.825493e+06</td>\n",
              "    </tr>\n",
              "    <tr>\n",
              "      <th>2015-12-31</th>\n",
              "      <td>349952.670812</td>\n",
              "      <td>151552.452285</td>\n",
              "      <td>299224.777084</td>\n",
              "      <td>22921.257036</td>\n",
              "      <td>84959.735169</td>\n",
              "      <td>79663.878891</td>\n",
              "      <td>109971.042472</td>\n",
              "      <td>30608.753230</td>\n",
              "      <td>861749.06</td>\n",
              "      <td>1.284238e+08</td>\n",
              "      <td>2009825.86</td>\n",
              "      <td>3.201627e+06</td>\n",
              "    </tr>\n",
              "    <tr>\n",
              "      <th>2016-12-31</th>\n",
              "      <td>216721.126936</td>\n",
              "      <td>86834.829308</td>\n",
              "      <td>198066.197563</td>\n",
              "      <td>20963.840959</td>\n",
              "      <td>77492.073819</td>\n",
              "      <td>35438.862473</td>\n",
              "      <td>73991.462309</td>\n",
              "      <td>10264.390093</td>\n",
              "      <td>313370.06</td>\n",
              "      <td>5.006913e+07</td>\n",
              "      <td>1572866.41</td>\n",
              "      <td>2.052229e+06</td>\n",
              "    </tr>\n",
              "  </tbody>\n",
              "</table>\n",
              "</div>"
            ],
            "text/plain": [
              "            AVG_DOWNHOLE_PRESSURE  ...   BORE_WI_VOL\n",
              "DATEPRD                            ...              \n",
              "2007-12-31               0.000000  ...  0.000000e+00\n",
              "2008-12-31          126332.310680  ...  2.417770e+06\n",
              "2009-12-31          171879.218917  ...  4.392198e+06\n",
              "2010-12-31          160502.923169  ...  4.569394e+06\n",
              "2011-12-31           83850.168072  ...  3.442446e+06\n",
              "2012-12-31           78690.519824  ...  2.975214e+06\n",
              "2013-12-31          127489.850406  ...  3.453761e+06\n",
              "2014-12-31          317179.952517  ...  3.825493e+06\n",
              "2015-12-31          349952.670812  ...  3.201627e+06\n",
              "2016-12-31          216721.126936  ...  2.052229e+06\n",
              "\n",
              "[10 rows x 12 columns]"
            ]
          },
          "metadata": {
            "tags": []
          },
          "execution_count": 23
        }
      ]
    }
  ]
}